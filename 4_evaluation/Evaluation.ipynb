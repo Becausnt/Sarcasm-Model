{
 "cells": [
  {
   "cell_type": "markdown",
   "id": "f3910107-6594-47f4-b89c-6631f42a4cc3",
   "metadata": {},
   "source": [
    "# Evaluation"
   ]
  },
  {
   "cell_type": "markdown",
   "id": "a3a39c08-dc5b-45f5-bdf2-c18816d62001",
   "metadata": {},
   "source": [
    "### 1. Most important columns\n",
    "\n",
    "Well, considering we only have two columns in our used dataset(`is_sarcastic` and `headline`), I'd say the `headline`-column is most important since it contains all the model-input data. `is_saracastic` is only used for training and is the one we'd like to predict.<br>\n",
    "\n",
    "(Yes, there was a column with the article link which would be a big influence, but we decided not to use that one for previously elaborated reasons)<br>\n",
    "\n",
    "(And because of how `HashingVectorizer` works (*hashing* is one-way), it's not possible to extract original feature names)"
   ]
  },
  {
   "cell_type": "markdown",
   "id": "104eeb38-19fc-426c-8611-8805bb133de0",
   "metadata": {},
   "source": [
    "### 2. Measuring Method\n",
    "\n",
    "The MSE (Mean Squared Error) is mostly used for regression. It measures the difference between the predicted values and the actual values, squares it and then takes the mean of all of those. My model only has binary outputs. Either 1 (is sarcastic), or 0 (isn't sarcastic). The MSE wouldn't really capture the model's performance. <br>\n",
    "In fact, the MSE would just flag any incorrect prediction with a Squared Error of 1. This for every entry. Then it takes the mean of all of those. We've just created a complex method to get the percentage of correct predictions, which isn't necessarily a bad metric, but there are much easier ways to do that.\n",
    "<br><br>\n",
    "So, for a more balanced evaluation I'd consider the F1-Score:\n",
    "$$\n",
    "F_1 = 2 \\times \\frac{\\text{precision} \\times \\text{recall}}{\\text{precision} + \\text{recall}}\n",
    "$$\n",
    "The F1-Score punishes false positives and false negatives equally, which is suited for our dataset since we have a pretty even distribution of sarcastic and non-sarcastic entries. (See below)\n"
   ]
  },
  {
   "cell_type": "code",
   "execution_count": 1,
   "id": "90d668be-ef4c-4ad1-ad03-d205038c0003",
   "metadata": {},
   "outputs": [
    {
     "name": "stdout",
     "output_type": "stream",
     "text": [
      "Percentage of sarcastic entries: \t47.63%\n",
      "Percentage of non-sarcastic entries: \t52.36%\n"
     ]
    }
   ],
   "source": [
    "import pandas as pd\n",
    "\n",
    "headlines = pd.read_json(\"Sarcasm_Headlines_Dataset_v2.json\")\n",
    "\n",
    "sarcastic = 0\n",
    "total = headlines['is_sarcastic'].count()\n",
    "\n",
    "for value in headlines['is_sarcastic']:\n",
    "    if value == 1:\n",
    "        sarcastic += 1\n",
    "\n",
    "print(f\"Percentage of sarcastic entries: \\t{str(1/total*sarcastic*100)[:5]}%\")\n",
    "print(f\"Percentage of non-sarcastic entries: \\t{str(100-(1/total*sarcastic*100))[:5]}%\")"
   ]
  },
  {
   "cell_type": "markdown",
   "id": "556fe769-d0d5-48e2-a8af-a49574fb5746",
   "metadata": {},
   "source": [
    "<br>\n",
    "\n",
    "Now then, to calculate that score:"
   ]
  },
  {
   "cell_type": "code",
   "execution_count": 2,
   "id": "175e172e-7e1b-448d-9cd5-5efc0c508180",
   "metadata": {},
   "outputs": [
    {
     "name": "stdout",
     "output_type": "stream",
     "text": [
      "F1 Score (binary): 0.8454661558109834\n",
      "F1-macro Score: 0.8517593892847443\n"
     ]
    }
   ],
   "source": [
    "from sklearn.metrics import f1_score\n",
    "from sklearn.model_selection import train_test_split\n",
    "import joblib  \n",
    "\n",
    "model = joblib.load('sarcasm_model.pkl') \n",
    "\n",
    "X, y = headlines['headline'], headlines['is_sarcastic']\n",
    "\n",
    "X_train, X_test, y_train, y_test = train_test_split(X, y, test_size=0.2, random_state=42) # same random\n",
    "\n",
    "y_pred = model.predict(X_test)\n",
    "\n",
    "f1 = f1_score(y_test, y_pred, average='binary')  # For binary classification\n",
    "f1_2 = f1_score(y_test, y_pred, average='macro')  # For multi-class, if applicable\n",
    "\n",
    "print(f\"F1 Score (binary): {f1}\")\n",
    "print(f\"F1-macro Score: {f1_2}\")"
   ]
  },
  {
   "cell_type": "markdown",
   "id": "9b9ad7e3-7931-47cf-bf69-40e4826017eb",
   "metadata": {},
   "source": [
    "And a more general evaluation just for completeness' sake:"
   ]
  },
  {
   "cell_type": "code",
   "execution_count": 3,
   "id": "89af2bc7-4733-4f41-8c53-3754e30bfa5d",
   "metadata": {},
   "outputs": [
    {
     "name": "stdout",
     "output_type": "stream",
     "text": [
      "              precision    recall  f1-score   support\n",
      "\n",
      "           0       0.85      0.86      0.86      2972\n",
      "           1       0.85      0.84      0.85      2752\n",
      "\n",
      "    accuracy                           0.85      5724\n",
      "   macro avg       0.85      0.85      0.85      5724\n",
      "weighted avg       0.85      0.85      0.85      5724\n",
      "\n"
     ]
    }
   ],
   "source": [
    "from sklearn.metrics import classification_report\n",
    "\n",
    "print(classification_report(y_pred, y_test))"
   ]
  },
  {
   "cell_type": "markdown",
   "id": "cf1bf447-377e-4427-9949-cb7e8235d8c2",
   "metadata": {},
   "source": [
    "### 3. Confusion Matrix\n",
    "\n",
    "We've evaluated performance which seems pretty well-balanced, but now let's also create a confusion matrix to get some more insight on True Positives, False Positive, True Negatives and False Negatives. For our model False Positives and False Negatives are about equally dangerous. Interpreting something as sarcasm when it is not or thinking something is serious when sarcasm can both lead to very bad misunderstandings."
   ]
  },
  {
   "cell_type": "code",
   "execution_count": 4,
   "id": "5c8f87a7-b530-432a-9d93-34253fa5d433",
   "metadata": {},
   "outputs": [
    {
     "data": {
      "image/png": "[encoded data removed]",
      "text/plain": [
       "<Figure size 640x480 with 2 Axes>"
      ]
     },
     "metadata": {},
     "output_type": "display_data"
    }
   ],
   "source": [
    "from sklearn.metrics import confusion_matrix\n",
    "\n",
    "# creating the matrix\n",
    "cm = confusion_matrix(y_test, y_pred)\n",
    "\n",
    "# visualising it\n",
    "from sklearn.metrics import ConfusionMatrixDisplay\n",
    "import matplotlib.pyplot as plt\n",
    "\n",
    "disp = ConfusionMatrixDisplay(confusion_matrix=cm, display_labels=['false', 'true'], )\n",
    "\n",
    "disp.plot()\n",
    "plt.show()\n"
   ]
  },
  {
   "cell_type": "markdown",
   "id": "d6e18b9a-78f0-46f1-8a4d-b9937164de34",
   "metadata": {},
   "source": [
    "Not too bad I'd say. Now for \"Sensitivität\" (recall) and \"Spezifität\" (specificity):"
   ]
  },
  {
   "cell_type": "code",
   "execution_count": 5,
   "id": "d80efab5-de81-4aed-a4d3-ebb199b4eaf3",
   "metadata": {},
   "outputs": [
    {
     "name": "stdout",
     "output_type": "stream",
     "text": [
      "Simple recall:  0.8490289483327226\n",
      "Simple specificity:  0.8547579298831386\n"
     ]
    }
   ],
   "source": [
    "from sklearn.metrics import recall_score\n",
    "\n",
    "# Sensitivity (Recall for positives)\n",
    "sensitivity = recall_score(y_test, y_pred, pos_label=1)\n",
    "\n",
    "# Specificity = TN / (TN + FP)\n",
    "cm = confusion_matrix(y_test, y_pred)\n",
    "tn, fp, fn, tp = cm.ravel()\n",
    "specificity = tn / (tn + fp)\n",
    "\n",
    "print(\"Simple recall: \", sensitivity)\n",
    "print(\"Simple specificity: \", specificity)"
   ]
  },
  {
   "cell_type": "markdown",
   "id": "a07625c2-df29-4ef3-805e-166618164368",
   "metadata": {},
   "source": [
    "### 4. Summary\n",
    "\n",
    "I'd say my model is working quite well for something as strange and subjective as sarcasm. It's better and more consistent than me at detecting it, in the headlines at least. (You can try too, run main.py in \"IGNORE_FOR_LB/5_game\", I spent far too much time on this)<br>\n",
    "The combination of `LinearSVC` and `HashingVectorizer` is working pretty well, `HashingVectorizer` is fast and memory efficient (which allows even me to fit it again and again), and hash collisions seem to be working in our favour here. `LinearSVC` is suited for short, structured, sparse input, which describes headlines pretty well.<br>\n",
    "Another boost in model performance was the optimization with `GridSearchCV` which found a pretty good configuration. N-grams for sarcasm are pretty important too, and especially in sarcasm bigrams are pretty important. <br>\n",
    "(Phrases like \"yeah right\", \"oh great\", etc.)<br><br>\n",
    "\n",
    "Best found configuration:\n",
    "```json\n",
    "{'classifier__C': 1, 'classifier__class_weight': None, 'vectorizer__alternate_sign': False, 'vectorizer__ngram_range': (1, 2), 'vectorizer__norm': 'l2'}\n",
    "```"
   ]
  },
  {
   "cell_type": "code",
   "execution_count": null,
   "id": "5bda7d4d-07cd-48c0-8da9-0be5034c8566",
   "metadata": {},
   "outputs": [],
   "source": []
  }
 ],
 "metadata": {
  "kernelspec": {
   "display_name": "Python 3 (ipykernel)",
   "language": "python",
   "name": "python3"
  },
  "language_info": {
   "codemirror_mode": {
    "name": "ipython",
    "version": 3
   },
   "file_extension": ".py",
   "mimetype": "text/x-python",
   "name": "python",
   "nbconvert_exporter": "python",
   "pygments_lexer": "ipython3",
   "version": "3.12.10"
  }
 },
 "nbformat": 4,
 "nbformat_minor": 5
}
